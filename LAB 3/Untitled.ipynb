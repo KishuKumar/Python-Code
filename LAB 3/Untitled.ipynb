{
 "cells": [
  {
   "cell_type": "markdown",
   "id": "5cc24300",
   "metadata": {},
   "source": [
    "# KISHU KUMAR\n",
    "# 2105549\n",
    "# CSE 24"
   ]
  },
  {
   "cell_type": "code",
   "execution_count": 1,
   "id": "810cc053",
   "metadata": {},
   "outputs": [
    {
     "name": "stdout",
     "output_type": "stream",
     "text": [
      "2105549\n"
     ]
    }
   ],
   "source": [
    "def fun_2105549():\n",
    "    print(\"Inside Function\")\n",
    "fun_2105549()"
   ]
  },
  {
   "cell_type": "code",
   "execution_count": 3,
   "id": "7fa1dfe4",
   "metadata": {},
   "outputs": [
    {
     "name": "stdout",
     "output_type": "stream",
     "text": [
      "Even\n",
      "Odd\n"
     ]
    }
   ],
   "source": [
    "def evenOdd(x):\n",
    "    if x%2==0:\n",
    "        print(\"Even\")\n",
    "    else:\n",
    "        print(\"Odd\")\n",
    "evenOdd(2)\n",
    "evenOdd(3)"
   ]
  },
  {
   "cell_type": "code",
   "execution_count": 6,
   "id": "dd738c95",
   "metadata": {},
   "outputs": [
    {
     "name": "stdout",
     "output_type": "stream",
     "text": [
      "X= 20\n",
      "Y= 50\n"
     ]
    }
   ],
   "source": [
    "def fun(x,y=50):\n",
    "    print(\"X=\",x)\n",
    "    print(\"Y=\",y)\n",
    "fun(20)"
   ]
  },
  {
   "cell_type": "code",
   "execution_count": 12,
   "id": "5c41c597",
   "metadata": {},
   "outputs": [
    {
     "name": "stdout",
     "output_type": "stream",
     "text": [
      "X= 50\n",
      "Y= 10\n"
     ]
    }
   ],
   "source": [
    "def fun(y,x=50):\n",
    "    print(\"X=\",x)\n",
    "    print(\"Y=\",y)\n",
    "fun(10)"
   ]
  },
  {
   "cell_type": "code",
   "execution_count": 16,
   "id": "d1d93d3a",
   "metadata": {},
   "outputs": [
    {
     "name": "stdout",
     "output_type": "stream",
     "text": [
      "Sum of two number is 5\n",
      "Result True\n"
     ]
    }
   ],
   "source": [
    "def add(a,b):\n",
    "    return a+b\n",
    "def is_true(a):\n",
    "    return bool(a)\n",
    "res=add(2,3)\n",
    "print(\"Sum of two number is {}\".format(res))\n",
    "\n",
    "res1=is_true(2<5)\n",
    "print(\"Result {}\".format(res1))"
   ]
  },
  {
   "cell_type": "code",
   "execution_count": 24,
   "id": "93503a19",
   "metadata": {},
   "outputs": [
    {
     "name": "stdout",
     "output_type": "stream",
     "text": [
      "Sum of two number 20\n",
      "Subtraction of two number 40\n",
      "Multiplication of two number 25\n",
      "Division of two number 2.0\n"
     ]
    }
   ],
   "source": [
    "def add(x,y=10):\n",
    "    return x+y\n",
    "def sub(a,b):\n",
    "    if a>b:\n",
    "        return a-b\n",
    "    else:\n",
    "        return b-a\n",
    "def mult(c,d):\n",
    "    return c*d\n",
    "def div(f,e=10):\n",
    "    return f/e\n",
    "addition=add(10)\n",
    "print(\"Sum of two number\",addition)\n",
    "subtraction=sub(50,10)\n",
    "print(\"Subtraction of two number\",subtraction)\n",
    "multiplication=mult(5,5)\n",
    "print(\"Multiplication of two number\",multiplication)\n",
    "division=div(20)\n",
    "print(\"Division of two number\",division)"
   ]
  },
  {
   "cell_type": "code",
   "execution_count": 36,
   "id": "7d11f99b",
   "metadata": {},
   "outputs": [],
   "source": [
    "def add_more(list):\n",
    "    list.append(50)\n",
    "    print(\"Inside Function\",list)\n",
    "\n",
    "    mylist=[10,20,30,40]\n",
    "    add_more(mylist)\n",
    "    print(\"Outsode Function\",mylist)"
   ]
  },
  {
   "cell_type": "code",
   "execution_count": 37,
   "id": "b12e4e96",
   "metadata": {},
   "outputs": [
    {
     "name": "stdout",
     "output_type": "stream",
     "text": [
      "Inside Function [10, 20, 30, 40, 50]\n",
      "Outside Function [10, 20, 30, 40]\n"
     ]
    }
   ],
   "source": [
    "mylist=[10,20,30,40]\n",
    "\n",
    "def test(mylist):\n",
    "    mylist=[10,20,30,40]\n",
    "    mylist.append(50)\n",
    "    print(\"Inside Function\",mylist)\n",
    "test(mylist)\n",
    "print(\"Outside Function\",mylist)"
   ]
  },
  {
   "cell_type": "code",
   "execution_count": 39,
   "id": "ee39343a",
   "metadata": {},
   "outputs": [
    {
     "name": "stdout",
     "output_type": "stream",
     "text": [
      "Enter first number23\n",
      "Enter second number34\n",
      "Sum of two number 57\n"
     ]
    }
   ],
   "source": [
    "def add(a,b):\n",
    "    return a+b\n",
    "\n",
    "def sub\n",
    "num1=int(input(\"Enter first number\")) \n",
    "num2=int(input(\"Enter second number\"))\n",
    "\n",
    "sum=add(num1,num2)\n",
    "print(\"Sum of two number\",sum)\n",
    "\n"
   ]
  },
  {
   "cell_type": "code",
   "execution_count": 89,
   "id": "33032710",
   "metadata": {},
   "outputs": [
    {
     "name": "stdout",
     "output_type": "stream",
     "text": [
      "Before:  5\n",
      "After add: 6\n",
      "After sub: 4\n",
      "After mul: 12\n",
      "After div: 24\n"
     ]
    }
   ],
   "source": [
    "# CALL BY REFERNECE\n",
    "def add(list):\n",
    "    list[0] += 1\n",
    "def sub(list):\n",
    "    list[0]-=2\n",
    "def mul(list):\n",
    "    list[0]*=3\n",
    "def div(list):\n",
    "    list[0]*=2\n",
    "my_list = [5]\n",
    "print(\"Before: \",my_list[0])\n",
    "add(my_list)\n",
    "print(\"After add:\",my_list[0])\n",
    "sub(my_list)\n",
    "print(\"After sub:\",my_list[0])\n",
    "mul(my_list)\n",
    "print(\"After mul:\",my_list[0])\n",
    "div(my_list)\n",
    "print(\"After div:\",my_list[0])\n",
    "\n"
   ]
  },
  {
   "cell_type": "code",
   "execution_count": null,
   "id": "29c8a490",
   "metadata": {},
   "outputs": [],
   "source": []
  },
  {
   "cell_type": "code",
   "execution_count": null,
   "id": "38c1799f",
   "metadata": {},
   "outputs": [],
   "source": [
    "#CALL BY VALUE\n",
    "def add(x,y):\n",
    "    return x+y\n",
    "def sub(a,b):\n",
    "    if a>b:\n",
    "        return a-b\n",
    "    else:\n",
    "        return b-a\n",
    "def mult(c,d):\n",
    "    return c*d\n",
    "def div(f,e):\n",
    "    return f/e\n",
    "addition=add(10,20)\n",
    "print(\"Sum of two number\",addition)\n",
    "subtraction=sub(50,10)\n",
    "print(\"Subtraction of two number\",subtraction)\n",
    "multiplication=mult(5,5)\n",
    "print(\"Multiplication of two number\",multiplication)\n",
    "division=div(20,10)\n",
    "print(\"Division of two number\",division)"
   ]
  },
  {
   "cell_type": "code",
   "execution_count": 43,
   "id": "ca7a493f",
   "metadata": {},
   "outputs": [
    {
     "name": "stdout",
     "output_type": "stream",
     "text": [
      "15\n"
     ]
    }
   ],
   "source": [
    "x= lambda a:a+10\n",
    "print(x(5))"
   ]
  },
  {
   "cell_type": "code",
   "execution_count": 44,
   "id": "6ab9b754",
   "metadata": {},
   "outputs": [
    {
     "name": "stdout",
     "output_type": "stream",
     "text": [
      "6\n"
     ]
    }
   ],
   "source": [
    "x= lambda a,b: a*b\n",
    "print(x(2,3))"
   ]
  },
  {
   "cell_type": "code",
   "execution_count": 45,
   "id": "b9422418",
   "metadata": {},
   "outputs": [
    {
     "name": "stdout",
     "output_type": "stream",
     "text": [
      "60\n"
     ]
    }
   ],
   "source": [
    "x=lambda a,b,c :a+b+c\n",
    "print(x(10,20,30))"
   ]
  },
  {
   "cell_type": "code",
   "execution_count": 52,
   "id": "d5e6ad71",
   "metadata": {},
   "outputs": [
    {
     "name": "stdout",
     "output_type": "stream",
     "text": [
      "Hello World\n"
     ]
    }
   ],
   "source": [
    "greet= lambda : print(\"Hello World\")\n",
    "greet()"
   ]
  },
  {
   "cell_type": "code",
   "execution_count": 13,
   "id": "9c81ace8",
   "metadata": {},
   "outputs": [
    {
     "name": "stdout",
     "output_type": "stream",
     "text": [
      "[15, 5, 75, 1.0]\n"
     ]
    }
   ],
   "source": [
    "\n",
    "mylist=[]\n",
    "x=lambda a:a+10\n",
    "mylist.append(x(5))\n",
    "x=lambda a:a-10\n",
    "mylist.append(x(15))\n",
    "x=lambda a:a*5\n",
    "mylist.append(x(15))\n",
    "x=lambda a:a/20\n",
    "mylist.append(x(20))\n",
    "print(mylist)"
   ]
  },
  {
   "cell_type": "code",
   "execution_count": 11,
   "id": "501d3454",
   "metadata": {},
   "outputs": [
    {
     "name": "stdout",
     "output_type": "stream",
     "text": [
      "<filter object at 0x000001DC95D09420>\n",
      "<filter object at 0x000001DC95D09420>\n",
      "<filter object at 0x000001DC95D09420>\n",
      "<filter object at 0x000001DC95D09420>\n"
     ]
    }
   ],
   "source": [
    "ages=[5,12,17,18,24,32]\n",
    "def my_func(x):\n",
    "    if x>18 :\n",
    "        return False\n",
    "    else :\n",
    "        return True\n",
    "\n",
    "adults=filter(my_func,ages)\n",
    "for x in adults:\n",
    "        print()"
   ]
  },
  {
   "cell_type": "code",
   "execution_count": 12,
   "id": "cd464104",
   "metadata": {},
   "outputs": [
    {
     "name": "stdout",
     "output_type": "stream",
     "text": [
      "Filtered nos less than 10 [5]\n"
     ]
    }
   ],
   "source": [
    "ages=[5,12,17,18,24,32]\n",
    "adults=list(filter(lambda x:x<10,ages))\n",
    "print(\"Filtered nos less than 10\",adults)"
   ]
  },
  {
   "cell_type": "code",
   "execution_count": 19,
   "id": "e6790d09",
   "metadata": {},
   "outputs": [
    {
     "name": "stdout",
     "output_type": "stream",
     "text": [
      "[0.5, 1.0, 1.5, 2.0]\n"
     ]
    }
   ],
   "source": [
    "numbers=[1,2,3,4,]\n",
    "result=list(map(lambda x:x/2,numbers))\n",
    "print(list(result))"
   ]
  },
  {
   "cell_type": "code",
   "execution_count": 84,
   "id": "800ca919",
   "metadata": {},
   "outputs": [
    {
     "name": "stdout",
     "output_type": "stream",
     "text": [
      "[2, 4, 6, 8]\n"
     ]
    }
   ],
   "source": [
    "def addition(n):\n",
    "    return n+n\n",
    "\n",
    "numbers = (1,2,3,4)\n",
    "result = map(addition, numbers)\n",
    "print(list(result))"
   ]
  },
  {
   "cell_type": "code",
   "execution_count": 90,
   "id": "c7571a8e",
   "metadata": {},
   "outputs": [
    {
     "name": "stdout",
     "output_type": "stream",
     "text": [
      "['a', 'b', 'c', 'd', 'e', 'f', 'g', 'h']\n"
     ]
    }
   ],
   "source": [
    "a=(\"b\",\"g\",\"a\",\"d\",\"f\",\"c\",\"h\",\"e\")\n",
    "x=sorted(a)\n",
    "print(x)"
   ]
  },
  {
   "cell_type": "code",
   "execution_count": 39,
   "id": "450d8d8d",
   "metadata": {},
   "outputs": [
    {
     "name": "stdout",
     "output_type": "stream",
     "text": [
      "[1, 2, 2, 8, 11, 45]\n"
     ]
    }
   ],
   "source": [
    "num=[1,11,2,45,2,8]\n",
    "x=sorted(num,key=lambda x:x)\n",
    "print(x)"
   ]
  },
  {
   "cell_type": "code",
   "execution_count": 92,
   "id": "8294efd6",
   "metadata": {},
   "outputs": [
    {
     "name": "stdout",
     "output_type": "stream",
     "text": [
      "['h', 'g', 'f', 'e', 'd', 'c', 'b', 'a']\n"
     ]
    }
   ],
   "source": [
    "a=(\"h\",\"b\",\"a\",\"c\",\"f\",\"d\",\"e\",\"g\")\n",
    "x=sorted(a,reverse=True)\n",
    "print(x)"
   ]
  },
  {
   "cell_type": "code",
   "execution_count": 100,
   "id": "863a8001",
   "metadata": {},
   "outputs": [
    {
     "name": "stdout",
     "output_type": "stream",
     "text": [
      "[10, 20, 30, 40, 50]\n",
      "[10, 20, 30, 50]\n",
      "50\n"
     ]
    }
   ],
   "source": [
    "list_549=[10,20,30,40]\n",
    "list_549.append(50)\n",
    "print(list_549)\n",
    "list_549.remove(40)\n",
    "print(list_549)\n",
    "print(list_549[3])\n",
    "    "
   ]
  },
  {
   "cell_type": "code",
   "execution_count": 108,
   "id": "775a9042",
   "metadata": {},
   "outputs": [
    {
     "name": "stdout",
     "output_type": "stream",
     "text": [
      "10\n",
      "100\n",
      "(10, 20, 30, 40, 50, 60, 70, 80, 90, 100)\n",
      "Length of tup1: 5\n",
      "Length of tup2: 5\n"
     ]
    }
   ],
   "source": [
    "tup1=(10,20,30,40,50)\n",
    "tup2=(60,70,80,90,100)\n",
    "first_element=tup1[0]\n",
    "second_element=tup2[4]\n",
    "print(first_element)\n",
    "print(second_element)\n",
    "tup3=tup1+tup2\n",
    "print(tup3)\n",
    "length=len(tup1)\n",
    "print(\"Length of tup1:\",length)\n",
    "length2=len(tup2)\n",
    "print(\"Length of tup2:\",length2)\n"
   ]
  }
 ],
 "metadata": {
  "kernelspec": {
   "display_name": "Python 3 (ipykernel)",
   "language": "python",
   "name": "python3"
  },
  "language_info": {
   "codemirror_mode": {
    "name": "ipython",
    "version": 3
   },
   "file_extension": ".py",
   "mimetype": "text/x-python",
   "name": "python",
   "nbconvert_exporter": "python",
   "pygments_lexer": "ipython3",
   "version": "3.11.5"
  }
 },
 "nbformat": 4,
 "nbformat_minor": 5
}
