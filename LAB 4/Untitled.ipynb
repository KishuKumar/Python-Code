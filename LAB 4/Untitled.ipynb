{
 "cells": [
  {
   "cell_type": "markdown",
   "id": "6bab8180",
   "metadata": {},
   "source": [
    "# KISHU KUMAR\n",
    "# 2105549\n",
    "# CSE 24"
   ]
  },
  {
   "cell_type": "code",
   "execution_count": 2,
   "id": "fe138e8d",
   "metadata": {},
   "outputs": [
    {
     "name": "stdout",
     "output_type": "stream",
     "text": [
      "('apple', 'banana', 'cherry')\n",
      "banana\n"
     ]
    }
   ],
   "source": [
    "thistuple=(\"apple\",\"banana\",\"cherry\")\n",
    "print(thistuple)\n",
    "print(thistuple[1])"
   ]
  },
  {
   "cell_type": "code",
   "execution_count": 5,
   "id": "17682a89",
   "metadata": {},
   "outputs": [
    {
     "name": "stdout",
     "output_type": "stream",
     "text": [
      "cherry\n"
     ]
    }
   ],
   "source": [
    "thistuple=(\"apple\",\"banana\",\"cherry\")\n",
    "print(thistuple[-1])"
   ]
  },
  {
   "cell_type": "code",
   "execution_count": 6,
   "id": "779e9646",
   "metadata": {},
   "outputs": [
    {
     "name": "stdout",
     "output_type": "stream",
     "text": [
      "(1, 2, 3, 4, 5, 6, 7, 8)\n"
     ]
    }
   ],
   "source": [
    "t=(1,2,3,4,5)\n",
    "s=(6,7,8)\n",
    "print(t+s)"
   ]
  },
  {
   "cell_type": "code",
   "execution_count": 8,
   "id": "f1478e1a",
   "metadata": {},
   "outputs": [
    {
     "name": "stdout",
     "output_type": "stream",
     "text": [
      "(3, 4)\n"
     ]
    }
   ],
   "source": [
    "t=(1,2,3,4)\n",
    "print(t[2:4])"
   ]
  },
  {
   "cell_type": "code",
   "execution_count": 13,
   "id": "ad48dad5",
   "metadata": {},
   "outputs": [
    {
     "name": "stdout",
     "output_type": "stream",
     "text": [
      "{'banana', 'apple', 'cherry'}\n"
     ]
    }
   ],
   "source": [
    "thisset={\"apple\",\"banana\",\"cherry\"}\n",
    "print(thisset)"
   ]
  },
  {
   "cell_type": "code",
   "execution_count": 14,
   "id": "8569b452",
   "metadata": {},
   "outputs": [
    {
     "name": "stdout",
     "output_type": "stream",
     "text": [
      "{'banana', 'apple', 'cherry'}\n"
     ]
    }
   ],
   "source": [
    "thiset={\"apple\",\"banana\",\"cherry\",True,1,2}\n",
    "print(thisset)"
   ]
  },
  {
   "cell_type": "code",
   "execution_count": 15,
   "id": "45ec7ac0",
   "metadata": {},
   "outputs": [
    {
     "name": "stdout",
     "output_type": "stream",
     "text": [
      "3\n"
     ]
    }
   ],
   "source": [
    "thisset={\"apple\",\"banana\",\"cherry\"}\n",
    "print(len(thisset))"
   ]
  },
  {
   "cell_type": "code",
   "execution_count": 16,
   "id": "5909cc53",
   "metadata": {},
   "outputs": [
    {
     "name": "stdout",
     "output_type": "stream",
     "text": [
      "{'banana', 'cherry', 'microsoft', 'apple', 'google'}\n"
     ]
    }
   ],
   "source": [
    "x={\"apple\",\"banana\",\"cherry\"}\n",
    "y={\"google\",\"microsoft\",\"apple\"}\n",
    "z=x.union(y)\n",
    "print(z)"
   ]
  },
  {
   "cell_type": "code",
   "execution_count": 17,
   "id": "17ec2e07",
   "metadata": {},
   "outputs": [
    {
     "name": "stdout",
     "output_type": "stream",
     "text": [
      "{'apple'}\n"
     ]
    }
   ],
   "source": [
    "x={\"apple\",\"banana\",\"cherry\"}\n",
    "y={\"google\",\"microsoft\",\"apple\"}\n",
    "z=x.intersection(y)\n",
    "print(z)"
   ]
  },
  {
   "cell_type": "code",
   "execution_count": 18,
   "id": "1a5dfc20",
   "metadata": {},
   "outputs": [
    {
     "name": "stdout",
     "output_type": "stream",
     "text": [
      "{'banana', 'cherry'}\n"
     ]
    }
   ],
   "source": [
    "x={\"apple\",\"banana\",\"cherry\"}\n",
    "y={\"google\",\"microsoft\",\"apple\"}\n",
    "z=x.difference(y)\n",
    "print(z)"
   ]
  },
  {
   "cell_type": "code",
   "execution_count": 22,
   "id": "952db426",
   "metadata": {},
   "outputs": [
    {
     "name": "stdout",
     "output_type": "stream",
     "text": [
      "{'brand': 'Ford', 'model': 'mustang', 'year': 1964}\n"
     ]
    }
   ],
   "source": [
    "#dictionary\n",
    "thisdic={\"brand\":\"Ford\",\"model\":\"mustang\",\"year\":1964}\n",
    "print(thisdic)"
   ]
  },
  {
   "cell_type": "code",
   "execution_count": 23,
   "id": "d8348174",
   "metadata": {},
   "outputs": [
    {
     "name": "stdout",
     "output_type": "stream",
     "text": [
      "{'brand': 'Ford', 'model': 'mustang', 'year': 1964, 'color': 'red'}\n"
     ]
    }
   ],
   "source": [
    "thisdic={\"brand\":\"Ford\",\"model\":\"mustang\",\"year\":1964}\n",
    "thisdic[\"color\"]=\"red\"\n",
    "print(thisdic)"
   ]
  },
  {
   "cell_type": "code",
   "execution_count": 25,
   "id": "46c90616",
   "metadata": {},
   "outputs": [
    {
     "name": "stdout",
     "output_type": "stream",
     "text": [
      "{'brand': 'Ford', 'model': 'mustang', 'year': 1964, 'color': 'red'}\n"
     ]
    }
   ],
   "source": [
    "thisdic={\"brand\":\"Ford\",\"model\":\"mustang\",\"year\":1964}\n",
    "thisdic.update({\"color\":\"red\"})\n",
    "print(thisdic)"
   ]
  },
  {
   "cell_type": "code",
   "execution_count": 28,
   "id": "9dc0d231",
   "metadata": {},
   "outputs": [
    {
     "name": "stdout",
     "output_type": "stream",
     "text": [
      "mustang\n"
     ]
    }
   ],
   "source": [
    "thisdic={\"brand\":\"Ford\",\"model\":\"mustang\",\"year\":1964}\n",
    "x=thisdic[\"model\"]\n",
    "print(x)"
   ]
  },
  {
   "cell_type": "code",
   "execution_count": 29,
   "id": "971e2aca",
   "metadata": {},
   "outputs": [
    {
     "name": "stdout",
     "output_type": "stream",
     "text": [
      "{'brand': 'Ford', 'model': 'mustang', 'year': '1980'}\n"
     ]
    }
   ],
   "source": [
    "thisdic={\"brand\":\"Ford\",\"model\":\"mustang\",\"year\":1964}\n",
    "thisdic.update({\"year\":\"1980\"})\n",
    "print(thisdic)"
   ]
  },
  {
   "cell_type": "code",
   "execution_count": 36,
   "id": "44c54217",
   "metadata": {},
   "outputs": [
    {
     "name": "stdout",
     "output_type": "stream",
     "text": [
      "John Doe\n",
      "Mike Olsen\n"
     ]
    }
   ],
   "source": [
    "class Person:\n",
    "    def __init__(self, fname, lname):\n",
    "        self.firstname = fname\n",
    "        self.lastname = lname\n",
    "\n",
    "    def printname(self):\n",
    "        print(self.firstname, self.lastname)\n",
    "\n",
    "x = Person(\"John\", \"Doe\")\n",
    "x.printname()\n",
    "class Student(Person):\n",
    "    pass\n",
    "x=Student(\"Mike\",\"Olsen\")\n",
    "x.printname()"
   ]
  },
  {
   "cell_type": "code",
   "execution_count": 56,
   "id": "726d105c",
   "metadata": {},
   "outputs": [
    {
     "name": "stdout",
     "output_type": "stream",
     "text": [
      "Vehicle 1 Information:\n",
      "Make: Toyota, Model: Camry, Year: 2022\n",
      "\n",
      "Vehicle 2 Information:\n",
      "Make: Ford, Model: Mustang, Year: 2023\n",
      "\n",
      "Combining Vehicles:\n",
      "Toyota Camry + Ford Mustang\n",
      "\n",
      "Car 1 Information:\n",
      "Make: Honda, Model: Civic, Year: 2024\n",
      "Number of Doors: 4, Fuel Type: Gasoline\n",
      "\n",
      "Car 2 Information:\n",
      "Make: Tesla, Model: Model S, Year: 2025\n",
      "Number of Doors: 2, Fuel Type: Electric\n"
     ]
    }
   ],
   "source": [
    "class Vehicle:\n",
    "    def __init__(self, make, model, year):\n",
    "        self.make = make\n",
    "        self.model = model\n",
    "        self.year = year\n",
    "\n",
    "    def display_info(self):\n",
    "        print(f\"Make: {self.make}, Model: {self.model}, Year: {self.year}\")\n",
    "\n",
    "    def __add__(self, other):\n",
    "        return f\"{self.make} {self.model} + {other.make} {other.model}\"\n",
    "\n",
    "\n",
    "class Car(Vehicle):\n",
    "    def __init__(self, make, model, year, num_doors, fuel_type):\n",
    "        super().__init__(make, model, year)\n",
    "        self.num_doors = num_doors\n",
    "        self.fuel_type = fuel_type\n",
    "\n",
    "    def display_info(self):\n",
    "        super().display_info()\n",
    "        print(f\"Number of Doors: {self.num_doors}, Fuel Type: {self.fuel_type}\")\n",
    "vehicle1 = Vehicle(\"Toyota\", \"Camry\", 2022)\n",
    "vehicle2 = Vehicle(\"Ford\", \"Mustang\", 2023)\n",
    "\n",
    "print(\"Vehicle 1 Information:\")\n",
    "vehicle1.display_info()\n",
    "print(\"\\nVehicle 2 Information:\")\n",
    "vehicle2.display_info()\n",
    "\n",
    "print(\"\\nCombining Vehicles:\")\n",
    "print(vehicle1 + vehicle2)\n",
    "\n",
    "car1 = Car(\"Honda\", \"Civic\", 2024, 4, \"Fuel\")\n",
    "car2 = Car(\"Tesla\", \"Model S\", 2025, 2, \"Electric\")\n",
    "\n",
    "print(\"\\nCar 1 Information:\")\n",
    "car1.display_info()\n",
    "print(\"\\nCar 2 Information:\")\n",
    "car2.display_info()\n"
   ]
  },
  {
   "cell_type": "code",
   "execution_count": null,
   "id": "c9904e26",
   "metadata": {},
   "outputs": [],
   "source": []
  }
 ],
 "metadata": {
  "kernelspec": {
   "display_name": "Python 3 (ipykernel)",
   "language": "python",
   "name": "python3"
  },
  "language_info": {
   "codemirror_mode": {
    "name": "ipython",
    "version": 3
   },
   "file_extension": ".py",
   "mimetype": "text/x-python",
   "name": "python",
   "nbconvert_exporter": "python",
   "pygments_lexer": "ipython3",
   "version": "3.11.5"
  }
 },
 "nbformat": 4,
 "nbformat_minor": 5
}
