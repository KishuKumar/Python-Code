{
 "cells": [
  {
   "cell_type": "code",
   "execution_count": 1,
   "id": "d1a33deb",
   "metadata": {},
   "outputs": [
    {
     "name": "stdout",
     "output_type": "stream",
     "text": [
      "'Kishu Kumar','2105549'\n"
     ]
    }
   ],
   "source": [
    "print(\"'Kishu Kumar','2105549'\")"
   ]
  },
  {
   "cell_type": "code",
   "execution_count": 2,
   "id": "bcb61dc7",
   "metadata": {},
   "outputs": [
    {
     "name": "stdout",
     "output_type": "stream",
     "text": [
      "I am not in in if\n"
     ]
    }
   ],
   "source": [
    "i=10\n",
    "if(i>15):\n",
    "    print(\"10 is less than 15\")\n",
    "print(\"I am not in in if\")"
   ]
  },
  {
   "cell_type": "code",
   "execution_count": 3,
   "id": "33840d7f",
   "metadata": {},
   "outputs": [
    {
     "name": "stdout",
     "output_type": "stream",
     "text": [
      "i is greater than 15\n",
      "I am in else block\n",
      "I am not in If and not in else block\n"
     ]
    }
   ],
   "source": [
    "i=20\n",
    "if(i<15):\n",
    "    print(\"i is less than 15\")\n",
    "    print(\"I am in if block\")\n",
    "else:\n",
    "    print(\"i is greater than 15\")\n",
    "    print(\"I am in else block\")\n",
    "print(\"I am not in If and not in else block\")"
   ]
  },
  {
   "cell_type": "code",
   "execution_count": 8,
   "id": "da8f35a7",
   "metadata": {},
   "outputs": [
    {
     "name": "stdout",
     "output_type": "stream",
     "text": [
      "i is smaller than 15\n",
      "i is smaller than 12\n"
     ]
    }
   ],
   "source": [
    "i=10\n",
    "if(i==10):\n",
    "    if(i<15):\n",
    "        print(\"i is smaller than 15\")\n",
    "    if(i<12):\n",
    "        print(\"i is smaller than 12\")\n",
    "    else:\n",
    "        print(\"i is greater than 12\")"
   ]
  },
  {
   "cell_type": "code",
   "execution_count": 9,
   "id": "0f37c456",
   "metadata": {},
   "outputs": [
    {
     "name": "stdout",
     "output_type": "stream",
     "text": [
      "i is 20\n"
     ]
    }
   ],
   "source": [
    "i=20\n",
    "if(i==10):\n",
    "    print(\"i is 10\")\n",
    "elif(i==15):\n",
    "    print(\"i is 15\")\n",
    "elif(i==20):\n",
    "    print(\"i is 20\")\n",
    "else:\n",
    "    print(\"i is not present\")"
   ]
  },
  {
   "cell_type": "code",
   "execution_count": 10,
   "id": "5fd278e5",
   "metadata": {},
   "outputs": [
    {
     "name": "stdout",
     "output_type": "stream",
     "text": [
      "i is less than 15\n"
     ]
    }
   ],
   "source": [
    "i=10\n",
    "if i <15: print(\"i is less than 15\")"
   ]
  },
  {
   "cell_type": "code",
   "execution_count": 12,
   "id": "c45c316b",
   "metadata": {},
   "outputs": [
    {
     "name": "stdout",
     "output_type": "stream",
     "text": [
      "False\n"
     ]
    }
   ],
   "source": [
    "#Python program to illustrates short hand if else\n",
    "i=10\n",
    "print(True) if i <15 else print(False)"
   ]
  },
  {
   "cell_type": "code",
   "execution_count": 13,
   "id": "149e0f21",
   "metadata": {},
   "outputs": [
    {
     "name": "stdout",
     "output_type": "stream",
     "text": [
      "0\n",
      "2\n",
      "4\n",
      "6\n",
      "8\n"
     ]
    }
   ],
   "source": [
    "#for loop\n",
    "for i in range(0,10,2):\n",
    "    print(i)"
   ]
  },
  {
   "cell_type": "code",
   "execution_count": 16,
   "id": "8b171672",
   "metadata": {},
   "outputs": [
    {
     "name": "stdout",
     "output_type": "stream",
     "text": [
      "1 1\n",
      "1 2\n",
      "1 3\n",
      "2 1\n",
      "2 2\n",
      "2 3\n",
      "3 1\n",
      "3 2\n",
      "3 3\n"
     ]
    }
   ],
   "source": [
    "#nested for\n",
    "for i in range(1,4):\n",
    "    for j in range(1,4):\n",
    "        print(i,j)"
   ]
  },
  {
   "cell_type": "code",
   "execution_count": 17,
   "id": "a6a224c8",
   "metadata": {},
   "outputs": [
    {
     "name": "stdout",
     "output_type": "stream",
     "text": [
      "Current letter : e\n"
     ]
    }
   ],
   "source": [
    "for letter in 'Student':\n",
    "    if(letter=='e' or letter=='s'):\n",
    "        break\n",
    "print(\"Current letter :\",letter)"
   ]
  },
  {
   "cell_type": "code",
   "execution_count": 22,
   "id": "5f336c7d",
   "metadata": {},
   "outputs": [
    {
     "name": "stdout",
     "output_type": "stream",
     "text": [
      "0 1 2 3 4 5 6 7 8 9 \n",
      "Sum of values of first 10 numbers is 45\n"
     ]
    }
   ],
   "source": [
    "for i in range(10):\n",
    "    print(i,end=\" \")\n",
    " #performinf sum of first 10 number\n",
    "sum=0\n",
    "for i in range(1,10):\n",
    "    sum=sum+i\n",
    "print(\"\\nSum of values of first 10 numbers is\",sum)"
   ]
  },
  {
   "cell_type": "code",
   "execution_count": 23,
   "id": "dd63bedf",
   "metadata": {},
   "outputs": [
    {
     "name": "stdout",
     "output_type": "stream",
     "text": [
      "1\n",
      "2\n",
      "3\n",
      "No Break\n"
     ]
    }
   ],
   "source": [
    "for i in range(1,4):\n",
    "    print(i)\n",
    "else:\n",
    "    print(\"No Break\")"
   ]
  },
  {
   "cell_type": "code",
   "execution_count": 25,
   "id": "88875f63",
   "metadata": {},
   "outputs": [
    {
     "name": "stdout",
     "output_type": "stream",
     "text": [
      "String Iteration\n",
      "S\n",
      "t\n",
      "u\n",
      "d\n",
      "e\n",
      "n\n",
      "t\n"
     ]
    }
   ],
   "source": [
    "print(\"String Iteration\")\n",
    "s=\"Student\"\n",
    "for i in s:\n",
    "    print(i)"
   ]
  },
  {
   "cell_type": "code",
   "execution_count": 30,
   "id": "21c06aa0",
   "metadata": {},
   "outputs": [
    {
     "name": "stdout",
     "output_type": "stream",
     "text": [
      "Student\n",
      "Student\n",
      "Student\n"
     ]
    }
   ],
   "source": [
    "count=0\n",
    "while(count<3):\n",
    "    count=count+1\n",
    "    print(\"Student\")\n",
    "    #print(count)\n",
    "    "
   ]
  },
  {
   "cell_type": "code",
   "execution_count": 35,
   "id": "c7aaccea",
   "metadata": {},
   "outputs": [
    {
     "name": "stdout",
     "output_type": "stream",
     "text": [
      "1\n",
      "2\n",
      "3\n",
      "4\n",
      "No break\n"
     ]
    }
   ],
   "source": [
    "i=0\n",
    "while i <4:\n",
    "    i+=1\n",
    "    print(i)\n",
    "    \n",
    "else : print(\"No break\")"
   ]
  },
  {
   "cell_type": "code",
   "execution_count": 34,
   "id": "f4538035",
   "metadata": {},
   "outputs": [
    {
     "name": "stdout",
     "output_type": "stream",
     "text": [
      "1\n"
     ]
    }
   ],
   "source": [
    "i=0\n",
    "while i< 4:\n",
    "    i+=1\n",
    "    print(i)\n",
    "    break\n",
    "else : print(\"No break\")"
   ]
  },
  {
   "cell_type": "code",
   "execution_count": 48,
   "id": "71daad3c",
   "metadata": {},
   "outputs": [
    {
     "name": "stdout",
     "output_type": "stream",
     "text": [
      "Guess number between 1 to 100\n",
      "Guess 1\n",
      "Guess a number23\n",
      "Guess higher number\n",
      "Guess 2\n",
      "Guess a number67\n",
      "Guess lower number\n",
      "Guess 3\n",
      "Guess a number45\n",
      "Guess lower number\n",
      "Guess 4\n",
      "Guess a number34\n",
      "Guess lower number\n",
      "Guess 5\n",
      "Guess a number30\n",
      "Guess lower number\n",
      "Guess 6\n",
      "Guess a number25\n",
      "Guess lower number\n",
      "Guess 7\n",
      "Guess a number20\n",
      "Guess higher number\n",
      "Guess 8\n",
      "Guess a number21\n",
      "Guess higher number\n",
      "Guess 9\n",
      "Guess a number22\n",
      "Guess higher number\n",
      "Guess 10\n",
      "Guess a number23\n",
      "Guess higher number\n",
      "Guess 11\n",
      "Guess a number24\n",
      "Won\n"
     ]
    }
   ],
   "source": [
    "import random\n",
    "r=random.randint(1,100)\n",
    "count=0\n",
    "print(\"Guess number between 1 to 100\")\n",
    "for i in range(0,100):\n",
    "    count=count+1\n",
    "    print(\"Guess\",count)\n",
    "    guess=int(input(\"Guess a number\"))\n",
    "    if guess > r:\n",
    "        print(\"Guess lower number\")\n",
    "    elif guess < r:\n",
    "        print(\"Guess higher number\")\n",
    "    elif guess==r:\n",
    "        print(\"Won\")\n",
    "        break\n",
    "    else:\n",
    "        print(\"Better luck next time\")"
   ]
  },
  {
   "cell_type": "code",
   "execution_count": 1,
   "id": "6e3bb2d2",
   "metadata": {},
   "outputs": [
    {
     "name": "stdout",
     "output_type": "stream",
     "text": [
      "2\n"
     ]
    }
   ],
   "source": [
    "import random\n",
    "num= random.randint(0,10)\n",
    "print(num)"
   ]
  },
  {
   "cell_type": "code",
   "execution_count": 51,
   "id": "541d60ba",
   "metadata": {},
   "outputs": [
    {
     "data": {
      "text/plain": [
       "0.11279629875981656"
      ]
     },
     "execution_count": 51,
     "metadata": {},
     "output_type": "execute_result"
    }
   ],
   "source": [
    "import random\n",
    "random.random()"
   ]
  },
  {
   "cell_type": "code",
   "execution_count": 55,
   "id": "0ed240ed",
   "metadata": {},
   "outputs": [
    {
     "ename": "ValueError",
     "evalue": "empty range for randrange()",
     "output_type": "error",
     "traceback": [
      "\u001b[1;31m---------------------------------------------------------------------------\u001b[0m",
      "\u001b[1;31mValueError\u001b[0m                                Traceback (most recent call last)",
      "Cell \u001b[1;32mIn[55], line 2\u001b[0m\n\u001b[0;32m      1\u001b[0m \u001b[38;5;28;01mimport\u001b[39;00m \u001b[38;5;21;01mrandom\u001b[39;00m\n\u001b[1;32m----> 2\u001b[0m random\u001b[38;5;241m.\u001b[39mrandrange(\u001b[38;5;241m100\u001b[39m,\u001b[38;5;241m100\u001b[39m,\u001b[38;5;241m3\u001b[39m)\n",
      "File \u001b[1;32m~\\anaconda3\\Lib\\random.py:355\u001b[0m, in \u001b[0;36mRandom.randrange\u001b[1;34m(self, start, stop, step)\u001b[0m\n\u001b[0;32m    353\u001b[0m     \u001b[38;5;28;01mraise\u001b[39;00m \u001b[38;5;167;01mValueError\u001b[39;00m(\u001b[38;5;124m\"\u001b[39m\u001b[38;5;124mzero step for randrange()\u001b[39m\u001b[38;5;124m\"\u001b[39m)\n\u001b[0;32m    354\u001b[0m \u001b[38;5;28;01mif\u001b[39;00m n \u001b[38;5;241m<\u001b[39m\u001b[38;5;241m=\u001b[39m \u001b[38;5;241m0\u001b[39m:\n\u001b[1;32m--> 355\u001b[0m     \u001b[38;5;28;01mraise\u001b[39;00m \u001b[38;5;167;01mValueError\u001b[39;00m(\u001b[38;5;124m\"\u001b[39m\u001b[38;5;124mempty range for randrange()\u001b[39m\u001b[38;5;124m\"\u001b[39m)\n\u001b[0;32m    356\u001b[0m \u001b[38;5;28;01mreturn\u001b[39;00m istart \u001b[38;5;241m+\u001b[39m istep \u001b[38;5;241m*\u001b[39m \u001b[38;5;28mself\u001b[39m\u001b[38;5;241m.\u001b[39m_randbelow(n)\n",
      "\u001b[1;31mValueError\u001b[0m: empty range for randrange()"
     ]
    }
   ],
   "source": [
    "import random\n",
    "random.randrange(100,100,3)"
   ]
  },
  {
   "cell_type": "code",
   "execution_count": 56,
   "id": "a77d7a38",
   "metadata": {},
   "outputs": [
    {
     "data": {
      "text/plain": [
       "-13"
      ]
     },
     "execution_count": 56,
     "metadata": {},
     "output_type": "execute_result"
    }
   ],
   "source": [
    "import random\n",
    "random.randrange(-50,-5)"
   ]
  },
  {
   "cell_type": "code",
   "execution_count": 58,
   "id": "f9708dd7",
   "metadata": {},
   "outputs": [
    {
     "data": {
      "text/plain": [
       "[75, 70, 88, 16, 42, 74, 66, 10, 1, 22]"
      ]
     },
     "execution_count": 58,
     "metadata": {},
     "output_type": "execute_result"
    }
   ],
   "source": [
    "import random\n",
    "random.sample(range(0,100),10)"
   ]
  },
  {
   "cell_type": "code",
   "execution_count": null,
   "id": "fec4226d",
   "metadata": {},
   "outputs": [],
   "source": []
  }
 ],
 "metadata": {
  "kernelspec": {
   "display_name": "Python 3 (ipykernel)",
   "language": "python",
   "name": "python3"
  },
  "language_info": {
   "codemirror_mode": {
    "name": "ipython",
    "version": 3
   },
   "file_extension": ".py",
   "mimetype": "text/x-python",
   "name": "python",
   "nbconvert_exporter": "python",
   "pygments_lexer": "ipython3",
   "version": "3.11.5"
  }
 },
 "nbformat": 4,
 "nbformat_minor": 5
}
