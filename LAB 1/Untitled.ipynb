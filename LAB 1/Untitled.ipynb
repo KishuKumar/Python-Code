{
 "cells": [
  {
   "cell_type": "code",
   "execution_count": 2,
   "id": "506886f1",
   "metadata": {},
   "outputs": [
    {
     "name": "stdout",
     "output_type": "stream",
     "text": [
      "Kishu Kumar\n"
     ]
    }
   ],
   "source": [
    "print('Kishu Kumar')\n"
   ]
  },
  {
   "cell_type": "code",
   "execution_count": 3,
   "id": "031bbf2f",
   "metadata": {},
   "outputs": [
    {
     "name": "stdout",
     "output_type": "stream",
     "text": [
      "2105549\n"
     ]
    }
   ],
   "source": [
    "print('2105549')"
   ]
  },
  {
   "cell_type": "code",
   "execution_count": 1,
   "id": "efef1860",
   "metadata": {},
   "outputs": [
    {
     "name": "stdout",
     "output_type": "stream",
     "text": [
      "How old are you?22\n"
     ]
    }
   ],
   "source": [
    "age=int(input('How old are you?'))"
   ]
  },
  {
   "cell_type": "code",
   "execution_count": 13,
   "id": "00ffda88",
   "metadata": {},
   "outputs": [
    {
     "name": "stdout",
     "output_type": "stream",
     "text": [
      "In 5 years your age will be 27\n"
     ]
    }
   ],
   "source": [
    "print('In 5 years your age will be',age+5)"
   ]
  },
  {
   "cell_type": "code",
   "execution_count": 14,
   "id": "bf5e6132",
   "metadata": {},
   "outputs": [
    {
     "name": "stdout",
     "output_type": "stream",
     "text": [
      "Sum of a and b  32\n"
     ]
    }
   ],
   "source": [
    "a=10\n",
    "b=22\n",
    "sum=a+b\n",
    "print('Sum of a and b ',sum)\n"
   ]
  },
  {
   "cell_type": "code",
   "execution_count": 17,
   "id": "2649fd7e",
   "metadata": {},
   "outputs": [
    {
     "name": "stdout",
     "output_type": "stream",
     "text": [
      "40.5\n"
     ]
    }
   ],
   "source": [
    "a=10\n",
    "b=30.5\n",
    "sum=a+b\n",
    "print(sum)"
   ]
  },
  {
   "cell_type": "code",
   "execution_count": 18,
   "id": "2fa747a3",
   "metadata": {},
   "outputs": [
    {
     "name": "stdout",
     "output_type": "stream",
     "text": [
      "40\n"
     ]
    }
   ],
   "source": [
    "a=10\n",
    "b=30.5\n",
    "sum=a+int(b)\n",
    "print(sum)"
   ]
  },
  {
   "cell_type": "code",
   "execution_count": 24,
   "id": "b62dc74f",
   "metadata": {},
   "outputs": [
    {
     "name": "stdout",
     "output_type": "stream",
     "text": [
      "Area of triangle = 17.41228014936585\n"
     ]
    }
   ],
   "source": [
    "#write a python program to find the area of a triangle a=5 b=7 c=9\n",
    "\n",
    "a=5\n",
    "b=7\n",
    "c=9\n",
    "s=(a+b+c)/2\n",
    "area=math.sqrt(s*(s-a)*(s-b)*(s-c))\n",
    "print('Area of triangle =',area)"
   ]
  },
  {
   "cell_type": "code",
   "execution_count": 23,
   "id": "7e5023ce",
   "metadata": {},
   "outputs": [
    {
     "data": {
      "text/plain": [
       "2.23606797749979"
      ]
     },
     "execution_count": 23,
     "metadata": {},
     "output_type": "execute_result"
    }
   ],
   "source": [
    "math.sqrt(5)"
   ]
  },
  {
   "cell_type": "code",
   "execution_count": 25,
   "id": "e351742d",
   "metadata": {},
   "outputs": [
    {
     "name": "stdout",
     "output_type": "stream",
     "text": [
      "2.6\n"
     ]
    }
   ],
   "source": [
    "# write a python program a=13 b=5 c=a/b print c\n",
    "\n",
    "a=13\n",
    "b=5\n",
    "c=a/b\n",
    "print(c)\n"
   ]
  },
  {
   "cell_type": "code",
   "execution_count": 27,
   "id": "5c667779",
   "metadata": {},
   "outputs": [
    {
     "name": "stdout",
     "output_type": "stream",
     "text": [
      "True\n"
     ]
    }
   ],
   "source": [
    "#write a  python program a=21 b=13 c=40 d=37 e=(a+b)>=(c-d)\n",
    "a=21\n",
    "b=13\n",
    "c=40\n",
    "d=37\n",
    "e=(a+b)>=(c-d)\n",
    "print(e)"
   ]
  },
  {
   "cell_type": "code",
   "execution_count": 36,
   "id": "eae8f4ce",
   "metadata": {},
   "outputs": [
    {
     "name": "stdout",
     "output_type": "stream",
     "text": [
      "False\n",
      "True\n",
      "False\n",
      "True\n"
     ]
    }
   ],
   "source": [
    "p=10==9\n",
    "print(p)\n",
    "q=7>5\n",
    "print(q)\n",
    "r=p and q\n",
    "s=p or q\n",
    "print(r)\n",
    "print(s)"
   ]
  },
  {
   "cell_type": "code",
   "execution_count": 33,
   "id": "0ffc9f2c",
   "metadata": {
    "scrolled": true
   },
   "outputs": [
    {
     "name": "stdout",
     "output_type": "stream",
     "text": [
      "3\n",
      "24\n"
     ]
    }
   ],
   "source": [
    "a=12\n",
    "x=a >> 2\n",
    "y=a<<1\n",
    "print(x)\n",
    "print(y)"
   ]
  },
  {
   "cell_type": "code",
   "execution_count": 35,
   "id": "f90e88a5",
   "metadata": {},
   "outputs": [
    {
     "name": "stdout",
     "output_type": "stream",
     "text": [
      "22\n"
     ]
    }
   ],
   "source": [
    "a=16\n",
    "b=12\n",
    "c=a+ (b>>1)\n",
    "print(c)"
   ]
  }
 ],
 "metadata": {
  "kernelspec": {
   "display_name": "Python 3 (ipykernel)",
   "language": "python",
   "name": "python3"
  },
  "language_info": {
   "codemirror_mode": {
    "name": "ipython",
    "version": 3
   },
   "file_extension": ".py",
   "mimetype": "text/x-python",
   "name": "python",
   "nbconvert_exporter": "python",
   "pygments_lexer": "ipython3",
   "version": "3.11.5"
  }
 },
 "nbformat": 4,
 "nbformat_minor": 5
}
